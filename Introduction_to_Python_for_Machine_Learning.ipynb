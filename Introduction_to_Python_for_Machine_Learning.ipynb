{
  "nbformat": 4,
  "nbformat_minor": 0,
  "metadata": {
    "colab": {
      "provenance": [],
      "authorship_tag": "ABX9TyPLFf3LnH4WEgB+Na/lCMz8",
      "include_colab_link": true
    },
    "kernelspec": {
      "name": "python3",
      "display_name": "Python 3"
    },
    "language_info": {
      "name": "python"
    }
  },
  "cells": [
    {
      "cell_type": "markdown",
      "metadata": {
        "id": "view-in-github",
        "colab_type": "text"
      },
      "source": [
        "<a href=\"https://colab.research.google.com/github/Jenn-mawia/HamoyeAI/blob/main/Introduction_to_Python_for_Machine_Learning.ipynb\" target=\"_parent\"><img src=\"https://colab.research.google.com/assets/colab-badge.svg\" alt=\"Open In Colab\"/></a>"
      ]
    },
    {
      "cell_type": "markdown",
      "source": [
        "# **Introduction to Python for Machine Learning**\n",
        "\n",
        "\n"
      ],
      "metadata": {
        "id": "AluCN3PjyTbV"
      }
    },
    {
      "cell_type": "markdown",
      "source": [
        "## Python in ML"
      ],
      "metadata": {
        "id": "U2PCf8Apygnk"
      }
    },
    {
      "cell_type": "markdown",
      "source": [
        "### **Numpy Arrays**"
      ],
      "metadata": {
        "id": "Ji4sOeBhmMn-"
      }
    },
    {
      "cell_type": "code",
      "execution_count": null,
      "metadata": {
        "colab": {
          "base_uri": "https://localhost:8080/"
        },
        "id": "oRYDJzz-l5so",
        "outputId": "fa3cb2c8-9256-4af4-fe59-00ae716e03a0"
      },
      "outputs": [
        {
          "output_type": "stream",
          "name": "stdout",
          "text": [
            "<class 'list'>\n"
          ]
        }
      ],
      "source": [
        "import numpy as np\n",
        "\n",
        "arr = [6,7,8,9]\n",
        "print(type(arr))"
      ]
    },
    {
      "cell_type": "code",
      "source": [
        "a = np.array(arr)\n",
        "print(a)\n",
        "print(type(a))\n",
        "print(a.shape)\n",
        "print(a.dtype)\n",
        "print(a.ndim) #1d array"
      ],
      "metadata": {
        "colab": {
          "base_uri": "https://localhost:8080/"
        },
        "id": "0sUTFh4zmVFW",
        "outputId": "5b684ba1-106b-49a6-e765-c84d62e86ff7"
      },
      "execution_count": null,
      "outputs": [
        {
          "output_type": "stream",
          "name": "stdout",
          "text": [
            "[6 7 8 9]\n",
            "<class 'numpy.ndarray'>\n",
            "(4,)\n",
            "int64\n",
            "1\n"
          ]
        }
      ]
    },
    {
      "cell_type": "code",
      "source": [
        "b = np.array([[1,2,3], [4,5,6]])\n",
        "print(b)\n",
        "\n",
        "print(b.ndim)\n",
        "print(b.shape) # 2dim array with 2 rows and 3 columns"
      ],
      "metadata": {
        "colab": {
          "base_uri": "https://localhost:8080/"
        },
        "id": "lH-yJ4Temqyi",
        "outputId": "71390c54-f95a-4128-93e0-6c8378e4f137"
      },
      "execution_count": null,
      "outputs": [
        {
          "output_type": "stream",
          "name": "stdout",
          "text": [
            "[[1 2 3]\n",
            " [4 5 6]]\n",
            "2\n",
            "(2, 3)\n"
          ]
        }
      ]
    },
    {
      "cell_type": "markdown",
      "source": [
        "**Inbuilt functions**"
      ],
      "metadata": {
        "id": "foFkNSGsnXjG"
      }
    },
    {
      "cell_type": "code",
      "source": [
        "print(np.random.random((2,3)))\n",
        "\n",
        "print(np.zeros((2,3)))\n",
        "\n",
        "print(np.ones((2,3)))\n",
        "\n",
        "print(np.identity((3)))"
      ],
      "metadata": {
        "colab": {
          "base_uri": "https://localhost:8080/"
        },
        "id": "dKtWzV_Xm421",
        "outputId": "797a9d52-9781-497f-fb3a-17408097efd6"
      },
      "execution_count": null,
      "outputs": [
        {
          "output_type": "stream",
          "name": "stdout",
          "text": [
            "[[0.35827342 0.24505765 0.22503776]\n",
            " [0.03454634 0.26824222 0.40800173]]\n",
            "[[0. 0. 0.]\n",
            " [0. 0. 0.]]\n",
            "[[1. 1. 1.]\n",
            " [1. 1. 1.]]\n",
            "[[1. 0. 0.]\n",
            " [0. 1. 0.]\n",
            " [0. 0. 1.]]\n"
          ]
        }
      ]
    },
    {
      "cell_type": "markdown",
      "source": [
        "**Intra-operability of Arrays and Scalars.**"
      ],
      "metadata": {
        "id": "n_DAcnbKn5cU"
      }
    },
    {
      "cell_type": "code",
      "source": [
        "c = np.array([[9.0,8.0,7.0], [1.0, 2.0, 3.0]])\n",
        "d = np.array([[4.0, 5.0, 6.0], [9.0,8.0,7.0]])\n",
        "\n",
        "c_plus_d = c+d\n",
        "print(c_plus_d)\n",
        "\n",
        "c_multiply_d = c*d\n",
        "print(c_multiply_d)\n",
        "\n",
        "divide_d_by_5 = 5/d\n",
        "print(divide_d_by_5)\n",
        "\n",
        "c_squared = c**2\n",
        "print(c_squared)"
      ],
      "metadata": {
        "colab": {
          "base_uri": "https://localhost:8080/"
        },
        "id": "gkE-3tOGnuB9",
        "outputId": "264c16ff-890c-467a-b75a-729984cf5f2c"
      },
      "execution_count": null,
      "outputs": [
        {
          "output_type": "stream",
          "name": "stdout",
          "text": [
            "[[13. 13. 13.]\n",
            " [10. 10. 10.]]\n",
            "[[36. 40. 42.]\n",
            " [ 9. 16. 21.]]\n",
            "[[1.25       1.         0.83333333]\n",
            " [0.55555556 0.625      0.71428571]]\n",
            "[[81. 64. 49.]\n",
            " [ 1.  4.  9.]]\n"
          ]
        }
      ]
    },
    {
      "cell_type": "markdown",
      "source": [
        "**Indexing With Arrays & Using Arrays for Data Processing**"
      ],
      "metadata": {
        "id": "7cuw_bDmpMXN"
      }
    },
    {
      "cell_type": "code",
      "source": [
        "print(a[0])\n",
        "print(a[3])\n",
        "\n",
        "print(b[0,0])\n",
        "print(b[1,2])\n",
        "\n",
        "print(c[0,1])\n"
      ],
      "metadata": {
        "colab": {
          "base_uri": "https://localhost:8080/"
        },
        "id": "Yz_Wb1ivocOI",
        "outputId": "a9042a0e-acc0-4b9c-8648-98d735608f5c"
      },
      "execution_count": null,
      "outputs": [
        {
          "output_type": "stream",
          "name": "stdout",
          "text": [
            "6\n",
            "9\n",
            "1\n",
            "6\n",
            "8.0\n"
          ]
        }
      ]
    },
    {
      "cell_type": "code",
      "source": [
        "# slicing rows and columns\n",
        "print(d[1, 0:2])\n",
        "\n",
        "e = np.array([[10,11,12], [13,14,15],\n",
        "              [16,17,18], [19,20,21]])\n",
        "\n",
        "print(e[:3, :2])\n",
        "\n",
        "print(e[[2,0,3,1],[2,1,0,2]]) #integer indexing\n",
        "\n",
        "print(e[e>15]) # boolean indexing meeting specified condition"
      ],
      "metadata": {
        "colab": {
          "base_uri": "https://localhost:8080/"
        },
        "id": "FyBwV1KEpeLz",
        "outputId": "e3bd08b1-9490-4ecf-b5a6-f1f01e50f1ef"
      },
      "execution_count": null,
      "outputs": [
        {
          "output_type": "stream",
          "name": "stdout",
          "text": [
            "[9. 8.]\n",
            "[[10 11]\n",
            " [13 14]\n",
            " [16 17]]\n",
            "[18 11 19 15]\n",
            "[16 17 18 19 20 21]\n"
          ]
        }
      ]
    },
    {
      "cell_type": "markdown",
      "source": [
        "### **Pandas**"
      ],
      "metadata": {
        "id": "CMrrH4SHqu7N"
      }
    },
    {
      "cell_type": "code",
      "source": [
        "import pandas as pd\n",
        "days = pd.Series(['Monday', 'Tuesday', 'Wednesday'])\n",
        "print(days)\n",
        "print('_________')\n",
        "\n",
        "#creating series with numpy array\n",
        "days_list = np.array(['Monday', 'Tuesday', 'Wednesday'])\n",
        "numpy_days = pd.Series(days_list)\n",
        "print(numpy_days)\n",
        "print('_________')\n",
        "\n",
        "# using strings as index\n",
        "days = pd.Series(['Monday', 'Tuesday', 'Wednesday'], index=['a','b','c'])\n",
        "print(days)\n",
        "print('_________')\n",
        "\n",
        "\n",
        "# create series from a dictionary\n",
        "days1 = pd.Series({'a': 'Monday', 'b': 'Tuesday', 'c': 'Wednesday'})\n",
        "print(days1)"
      ],
      "metadata": {
        "colab": {
          "base_uri": "https://localhost:8080/"
        },
        "id": "EUa51KNipwHJ",
        "outputId": "11e55c03-c761-42d5-cc6c-49540c15eed0"
      },
      "execution_count": null,
      "outputs": [
        {
          "output_type": "stream",
          "name": "stdout",
          "text": [
            "0       Monday\n",
            "1      Tuesday\n",
            "2    Wednesday\n",
            "dtype: object\n",
            "_________\n",
            "0       Monday\n",
            "1      Tuesday\n",
            "2    Wednesday\n",
            "dtype: object\n",
            "_________\n",
            "a       Monday\n",
            "b      Tuesday\n",
            "c    Wednesday\n",
            "dtype: object\n",
            "_________\n",
            "a       Monday\n",
            "b      Tuesday\n",
            "c    Wednesday\n",
            "dtype: object\n"
          ]
        }
      ]
    },
    {
      "cell_type": "code",
      "source": [
        "# accessing items using indices\n",
        "print(days[0])\n",
        "\n",
        "print(days[1: ])\n",
        "\n",
        "print(days['c'])"
      ],
      "metadata": {
        "colab": {
          "base_uri": "https://localhost:8080/"
        },
        "id": "VtNoBUArq_HO",
        "outputId": "769f08c5-8587-4dd0-cbef-e62c214ba2ef"
      },
      "execution_count": null,
      "outputs": [
        {
          "output_type": "stream",
          "name": "stdout",
          "text": [
            "Monday\n",
            "b      Tuesday\n",
            "c    Wednesday\n",
            "dtype: object\n",
            "Wednesday\n"
          ]
        }
      ]
    },
    {
      "cell_type": "code",
      "source": [
        "print(pd.DataFrame()) #empty dataframe\n",
        "\n",
        "# create a dataframe from a dictionary\n",
        "df_dict = {'Country': ['Ghana', 'Kenya', 'Nigeria', 'Togo'],\n",
        "           'Capital': ['Accra', 'Nairobi', 'Abuja', 'Lome'],\n",
        "           'Population': [10000, 8500, 35000, 12000], \n",
        "           'Age': [60, 70, 80, 75]}\n",
        "\n",
        "df = pd.DataFrame(df_dict, index=[2,4,6,8])\n",
        "\n",
        "# create a dataframe from a list\n",
        "df_list = [['Ghana', 'Accra', 10000, 60], \n",
        "           ['Kenya', 'Nairobi', 8500, 70], \n",
        "           ['Nigeria', 'Abuja', 35000, 80], \n",
        "           ['Togo', 'Lome', 12000, 75]]\n",
        "df1 = pd.DataFrame(df_list, columns=['Country', 'Capital', 'Population', 'Age'], \n",
        "                   index = [2,4,6,8])\n",
        "\n",
        "print(df)\n",
        "print('_________')\n",
        "print(df1)"
      ],
      "metadata": {
        "colab": {
          "base_uri": "https://localhost:8080/"
        },
        "id": "pXDn-TtDsdj9",
        "outputId": "750d8d7b-0f6e-403e-ceb8-457ac1661c53"
      },
      "execution_count": null,
      "outputs": [
        {
          "output_type": "stream",
          "name": "stdout",
          "text": [
            "Empty DataFrame\n",
            "Columns: []\n",
            "Index: []\n",
            "   Country  Capital  Population  Age\n",
            "2    Ghana    Accra       10000   60\n",
            "4    Kenya  Nairobi        8500   70\n",
            "6  Nigeria    Abuja       35000   80\n",
            "8     Togo     Lome       12000   75\n",
            "_________\n",
            "   Country  Capital  Population  Age\n",
            "2    Ghana    Accra       10000   60\n",
            "4    Kenya  Nairobi        8500   70\n",
            "6  Nigeria    Abuja       35000   80\n",
            "8     Togo     Lome       12000   75\n"
          ]
        }
      ]
    },
    {
      "cell_type": "code",
      "source": [
        "'''\n",
        "iloc selects values from the rows and columns by using integer index to locate positions\n",
        "loc selects rows or columns using labels\n",
        "at and iat are used to retrieve single values ; at uses the column and row labels\n",
        "                                                iat uses indices.\n",
        "'''\n",
        "print(df.iloc[3])\n",
        "print('_________')\n",
        "print(df.loc[6])\n",
        "print('_________')\n",
        "print(df['Capital'])\n",
        "print('_________')\n",
        "print(df.at[6, 'Country'])\n",
        "print('_________')\n",
        "print(df.iat[2,0])\n"
      ],
      "metadata": {
        "colab": {
          "base_uri": "https://localhost:8080/"
        },
        "id": "RIuNPp_KsmZz",
        "outputId": "cb2c4859-76e6-4113-8bcf-6517038c6dc3"
      },
      "execution_count": null,
      "outputs": [
        {
          "output_type": "stream",
          "name": "stdout",
          "text": [
            "Country        Togo\n",
            "Capital        Lome\n",
            "Population    12000\n",
            "Age              75\n",
            "Name: 8, dtype: object\n",
            "_________\n",
            "Country       Nigeria\n",
            "Capital         Abuja\n",
            "Population      35000\n",
            "Age                80\n",
            "Name: 6, dtype: object\n",
            "_________\n",
            "2      Accra\n",
            "4    Nairobi\n",
            "6      Abuja\n",
            "8       Lome\n",
            "Name: Capital, dtype: object\n",
            "_________\n",
            "Nigeria\n",
            "_________\n",
            "Nigeria\n"
          ]
        }
      ]
    },
    {
      "cell_type": "code",
      "source": [
        "# descriptive statistics\n",
        "print(df['Population'].sum())\n",
        "print(df.mean())\n",
        "\n",
        "df.describe()"
      ],
      "metadata": {
        "colab": {
          "base_uri": "https://localhost:8080/",
          "height": 427
        },
        "id": "yKuB8JWDv57v",
        "outputId": "5f943ff2-8594-4b64-9654-1380fc928056"
      },
      "execution_count": null,
      "outputs": [
        {
          "output_type": "stream",
          "name": "stdout",
          "text": [
            "65500\n",
            "Population    16375.00\n",
            "Age              71.25\n",
            "dtype: float64\n"
          ]
        },
        {
          "output_type": "stream",
          "name": "stderr",
          "text": [
            "<ipython-input-31-d825ba0286f8>:3: FutureWarning: The default value of numeric_only in DataFrame.mean is deprecated. In a future version, it will default to False. In addition, specifying 'numeric_only=None' is deprecated. Select only valid columns or specify the value of numeric_only to silence this warning.\n",
            "  print(df.mean())\n"
          ]
        },
        {
          "output_type": "execute_result",
          "data": {
            "text/plain": [
              "         Population        Age\n",
              "count      4.000000   4.000000\n",
              "mean   16375.000000  71.250000\n",
              "std    12499.166639   8.539126\n",
              "min     8500.000000  60.000000\n",
              "25%     9625.000000  67.500000\n",
              "50%    11000.000000  72.500000\n",
              "75%    17750.000000  76.250000\n",
              "max    35000.000000  80.000000"
            ],
            "text/html": [
              "\n",
              "  <div id=\"df-eda9abf8-be0f-4be2-9a9d-d4d7b1cb5ba0\">\n",
              "    <div class=\"colab-df-container\">\n",
              "      <div>\n",
              "<style scoped>\n",
              "    .dataframe tbody tr th:only-of-type {\n",
              "        vertical-align: middle;\n",
              "    }\n",
              "\n",
              "    .dataframe tbody tr th {\n",
              "        vertical-align: top;\n",
              "    }\n",
              "\n",
              "    .dataframe thead th {\n",
              "        text-align: right;\n",
              "    }\n",
              "</style>\n",
              "<table border=\"1\" class=\"dataframe\">\n",
              "  <thead>\n",
              "    <tr style=\"text-align: right;\">\n",
              "      <th></th>\n",
              "      <th>Population</th>\n",
              "      <th>Age</th>\n",
              "    </tr>\n",
              "  </thead>\n",
              "  <tbody>\n",
              "    <tr>\n",
              "      <th>count</th>\n",
              "      <td>4.000000</td>\n",
              "      <td>4.000000</td>\n",
              "    </tr>\n",
              "    <tr>\n",
              "      <th>mean</th>\n",
              "      <td>16375.000000</td>\n",
              "      <td>71.250000</td>\n",
              "    </tr>\n",
              "    <tr>\n",
              "      <th>std</th>\n",
              "      <td>12499.166639</td>\n",
              "      <td>8.539126</td>\n",
              "    </tr>\n",
              "    <tr>\n",
              "      <th>min</th>\n",
              "      <td>8500.000000</td>\n",
              "      <td>60.000000</td>\n",
              "    </tr>\n",
              "    <tr>\n",
              "      <th>25%</th>\n",
              "      <td>9625.000000</td>\n",
              "      <td>67.500000</td>\n",
              "    </tr>\n",
              "    <tr>\n",
              "      <th>50%</th>\n",
              "      <td>11000.000000</td>\n",
              "      <td>72.500000</td>\n",
              "    </tr>\n",
              "    <tr>\n",
              "      <th>75%</th>\n",
              "      <td>17750.000000</td>\n",
              "      <td>76.250000</td>\n",
              "    </tr>\n",
              "    <tr>\n",
              "      <th>max</th>\n",
              "      <td>35000.000000</td>\n",
              "      <td>80.000000</td>\n",
              "    </tr>\n",
              "  </tbody>\n",
              "</table>\n",
              "</div>\n",
              "      <button class=\"colab-df-convert\" onclick=\"convertToInteractive('df-eda9abf8-be0f-4be2-9a9d-d4d7b1cb5ba0')\"\n",
              "              title=\"Convert this dataframe to an interactive table.\"\n",
              "              style=\"display:none;\">\n",
              "        \n",
              "  <svg xmlns=\"http://www.w3.org/2000/svg\" height=\"24px\"viewBox=\"0 0 24 24\"\n",
              "       width=\"24px\">\n",
              "    <path d=\"M0 0h24v24H0V0z\" fill=\"none\"/>\n",
              "    <path d=\"M18.56 5.44l.94 2.06.94-2.06 2.06-.94-2.06-.94-.94-2.06-.94 2.06-2.06.94zm-11 1L8.5 8.5l.94-2.06 2.06-.94-2.06-.94L8.5 2.5l-.94 2.06-2.06.94zm10 10l.94 2.06.94-2.06 2.06-.94-2.06-.94-.94-2.06-.94 2.06-2.06.94z\"/><path d=\"M17.41 7.96l-1.37-1.37c-.4-.4-.92-.59-1.43-.59-.52 0-1.04.2-1.43.59L10.3 9.45l-7.72 7.72c-.78.78-.78 2.05 0 2.83L4 21.41c.39.39.9.59 1.41.59.51 0 1.02-.2 1.41-.59l7.78-7.78 2.81-2.81c.8-.78.8-2.07 0-2.86zM5.41 20L4 18.59l7.72-7.72 1.47 1.35L5.41 20z\"/>\n",
              "  </svg>\n",
              "      </button>\n",
              "      \n",
              "  <style>\n",
              "    .colab-df-container {\n",
              "      display:flex;\n",
              "      flex-wrap:wrap;\n",
              "      gap: 12px;\n",
              "    }\n",
              "\n",
              "    .colab-df-convert {\n",
              "      background-color: #E8F0FE;\n",
              "      border: none;\n",
              "      border-radius: 50%;\n",
              "      cursor: pointer;\n",
              "      display: none;\n",
              "      fill: #1967D2;\n",
              "      height: 32px;\n",
              "      padding: 0 0 0 0;\n",
              "      width: 32px;\n",
              "    }\n",
              "\n",
              "    .colab-df-convert:hover {\n",
              "      background-color: #E2EBFA;\n",
              "      box-shadow: 0px 1px 2px rgba(60, 64, 67, 0.3), 0px 1px 3px 1px rgba(60, 64, 67, 0.15);\n",
              "      fill: #174EA6;\n",
              "    }\n",
              "\n",
              "    [theme=dark] .colab-df-convert {\n",
              "      background-color: #3B4455;\n",
              "      fill: #D2E3FC;\n",
              "    }\n",
              "\n",
              "    [theme=dark] .colab-df-convert:hover {\n",
              "      background-color: #434B5C;\n",
              "      box-shadow: 0px 1px 3px 1px rgba(0, 0, 0, 0.15);\n",
              "      filter: drop-shadow(0px 1px 2px rgba(0, 0, 0, 0.3));\n",
              "      fill: #FFFFFF;\n",
              "    }\n",
              "  </style>\n",
              "\n",
              "      <script>\n",
              "        const buttonEl =\n",
              "          document.querySelector('#df-eda9abf8-be0f-4be2-9a9d-d4d7b1cb5ba0 button.colab-df-convert');\n",
              "        buttonEl.style.display =\n",
              "          google.colab.kernel.accessAllowed ? 'block' : 'none';\n",
              "\n",
              "        async function convertToInteractive(key) {\n",
              "          const element = document.querySelector('#df-eda9abf8-be0f-4be2-9a9d-d4d7b1cb5ba0');\n",
              "          const dataTable =\n",
              "            await google.colab.kernel.invokeFunction('convertToInteractive',\n",
              "                                                     [key], {});\n",
              "          if (!dataTable) return;\n",
              "\n",
              "          const docLinkHtml = 'Like what you see? Visit the ' +\n",
              "            '<a target=\"_blank\" href=https://colab.research.google.com/notebooks/data_table.ipynb>data table notebook</a>'\n",
              "            + ' to learn more about interactive tables.';\n",
              "          element.innerHTML = '';\n",
              "          dataTable['output_type'] = 'display_data';\n",
              "          await google.colab.output.renderOutput(dataTable, element);\n",
              "          const docLink = document.createElement('div');\n",
              "          docLink.innerHTML = docLinkHtml;\n",
              "          element.appendChild(docLink);\n",
              "        }\n",
              "      </script>\n",
              "    </div>\n",
              "  </div>\n",
              "  "
            ]
          },
          "metadata": {},
          "execution_count": 31
        }
      ]
    },
    {
      "cell_type": "code",
      "source": [
        "df_dict2 = {'Name': ['James','Yemen','Caro', np.nan], \n",
        "            'Profession': ['Researcher', 'Artist','Doctor', 'Writer'],\n",
        "            \"Experience\": [12, np.nan, 10, 8], \n",
        "            'Height': [np.nan, 175, 180, 150]}\n",
        "\n",
        "new_df = pd.DataFrame(df_dict2)\n",
        "print(new_df)\n",
        "print('_________')\n",
        "\n",
        "print(new_df.isnull())\n",
        "\n",
        "new_df.dropna()"
      ],
      "metadata": {
        "colab": {
          "base_uri": "https://localhost:8080/",
          "height": 277
        },
        "id": "74YaDfnNwxv7",
        "outputId": "bf9134f5-d571-40fa-ba9a-9f7c378955f6"
      },
      "execution_count": null,
      "outputs": [
        {
          "output_type": "stream",
          "name": "stdout",
          "text": [
            "    Name  Profession  Experience  Height\n",
            "0  James  Researcher        12.0     NaN\n",
            "1  Yemen      Artist         NaN   175.0\n",
            "2   Caro      Doctor        10.0   180.0\n",
            "3    NaN      Writer         8.0   150.0\n",
            "_________\n",
            "    Name  Profession  Experience  Height\n",
            "0  False       False       False    True\n",
            "1  False       False        True   False\n",
            "2  False       False       False   False\n",
            "3   True       False       False   False\n"
          ]
        },
        {
          "output_type": "execute_result",
          "data": {
            "text/plain": [
              "   Name Profession  Experience  Height\n",
              "2  Caro     Doctor        10.0   180.0"
            ],
            "text/html": [
              "\n",
              "  <div id=\"df-e6546980-60e0-492f-9639-c88d5ecb2878\">\n",
              "    <div class=\"colab-df-container\">\n",
              "      <div>\n",
              "<style scoped>\n",
              "    .dataframe tbody tr th:only-of-type {\n",
              "        vertical-align: middle;\n",
              "    }\n",
              "\n",
              "    .dataframe tbody tr th {\n",
              "        vertical-align: top;\n",
              "    }\n",
              "\n",
              "    .dataframe thead th {\n",
              "        text-align: right;\n",
              "    }\n",
              "</style>\n",
              "<table border=\"1\" class=\"dataframe\">\n",
              "  <thead>\n",
              "    <tr style=\"text-align: right;\">\n",
              "      <th></th>\n",
              "      <th>Name</th>\n",
              "      <th>Profession</th>\n",
              "      <th>Experience</th>\n",
              "      <th>Height</th>\n",
              "    </tr>\n",
              "  </thead>\n",
              "  <tbody>\n",
              "    <tr>\n",
              "      <th>2</th>\n",
              "      <td>Caro</td>\n",
              "      <td>Doctor</td>\n",
              "      <td>10.0</td>\n",
              "      <td>180.0</td>\n",
              "    </tr>\n",
              "  </tbody>\n",
              "</table>\n",
              "</div>\n",
              "      <button class=\"colab-df-convert\" onclick=\"convertToInteractive('df-e6546980-60e0-492f-9639-c88d5ecb2878')\"\n",
              "              title=\"Convert this dataframe to an interactive table.\"\n",
              "              style=\"display:none;\">\n",
              "        \n",
              "  <svg xmlns=\"http://www.w3.org/2000/svg\" height=\"24px\"viewBox=\"0 0 24 24\"\n",
              "       width=\"24px\">\n",
              "    <path d=\"M0 0h24v24H0V0z\" fill=\"none\"/>\n",
              "    <path d=\"M18.56 5.44l.94 2.06.94-2.06 2.06-.94-2.06-.94-.94-2.06-.94 2.06-2.06.94zm-11 1L8.5 8.5l.94-2.06 2.06-.94-2.06-.94L8.5 2.5l-.94 2.06-2.06.94zm10 10l.94 2.06.94-2.06 2.06-.94-2.06-.94-.94-2.06-.94 2.06-2.06.94z\"/><path d=\"M17.41 7.96l-1.37-1.37c-.4-.4-.92-.59-1.43-.59-.52 0-1.04.2-1.43.59L10.3 9.45l-7.72 7.72c-.78.78-.78 2.05 0 2.83L4 21.41c.39.39.9.59 1.41.59.51 0 1.02-.2 1.41-.59l7.78-7.78 2.81-2.81c.8-.78.8-2.07 0-2.86zM5.41 20L4 18.59l7.72-7.72 1.47 1.35L5.41 20z\"/>\n",
              "  </svg>\n",
              "      </button>\n",
              "      \n",
              "  <style>\n",
              "    .colab-df-container {\n",
              "      display:flex;\n",
              "      flex-wrap:wrap;\n",
              "      gap: 12px;\n",
              "    }\n",
              "\n",
              "    .colab-df-convert {\n",
              "      background-color: #E8F0FE;\n",
              "      border: none;\n",
              "      border-radius: 50%;\n",
              "      cursor: pointer;\n",
              "      display: none;\n",
              "      fill: #1967D2;\n",
              "      height: 32px;\n",
              "      padding: 0 0 0 0;\n",
              "      width: 32px;\n",
              "    }\n",
              "\n",
              "    .colab-df-convert:hover {\n",
              "      background-color: #E2EBFA;\n",
              "      box-shadow: 0px 1px 2px rgba(60, 64, 67, 0.3), 0px 1px 3px 1px rgba(60, 64, 67, 0.15);\n",
              "      fill: #174EA6;\n",
              "    }\n",
              "\n",
              "    [theme=dark] .colab-df-convert {\n",
              "      background-color: #3B4455;\n",
              "      fill: #D2E3FC;\n",
              "    }\n",
              "\n",
              "    [theme=dark] .colab-df-convert:hover {\n",
              "      background-color: #434B5C;\n",
              "      box-shadow: 0px 1px 3px 1px rgba(0, 0, 0, 0.15);\n",
              "      filter: drop-shadow(0px 1px 2px rgba(0, 0, 0, 0.3));\n",
              "      fill: #FFFFFF;\n",
              "    }\n",
              "  </style>\n",
              "\n",
              "      <script>\n",
              "        const buttonEl =\n",
              "          document.querySelector('#df-e6546980-60e0-492f-9639-c88d5ecb2878 button.colab-df-convert');\n",
              "        buttonEl.style.display =\n",
              "          google.colab.kernel.accessAllowed ? 'block' : 'none';\n",
              "\n",
              "        async function convertToInteractive(key) {\n",
              "          const element = document.querySelector('#df-e6546980-60e0-492f-9639-c88d5ecb2878');\n",
              "          const dataTable =\n",
              "            await google.colab.kernel.invokeFunction('convertToInteractive',\n",
              "                                                     [key], {});\n",
              "          if (!dataTable) return;\n",
              "\n",
              "          const docLinkHtml = 'Like what you see? Visit the ' +\n",
              "            '<a target=\"_blank\" href=https://colab.research.google.com/notebooks/data_table.ipynb>data table notebook</a>'\n",
              "            + ' to learn more about interactive tables.';\n",
              "          element.innerHTML = '';\n",
              "          dataTable['output_type'] = 'display_data';\n",
              "          await google.colab.output.renderOutput(dataTable, element);\n",
              "          const docLink = document.createElement('div');\n",
              "          docLink.innerHTML = docLinkHtml;\n",
              "          element.appendChild(docLink);\n",
              "        }\n",
              "      </script>\n",
              "    </div>\n",
              "  </div>\n",
              "  "
            ]
          },
          "metadata": {},
          "execution_count": 35
        }
      ]
    },
    {
      "cell_type": "markdown",
      "source": [
        "## **Data Types, Data Wrangling & Data Visualization**"
      ],
      "metadata": {
        "id": "DfdsQQk0yqpM"
      }
    },
    {
      "cell_type": "markdown",
      "source": [
        "### **Data Types & Data Wrangling**\n",
        "-Working with different types of data: text files, CSV, JSON objects, HTML and databases"
      ],
      "metadata": {
        "id": "FH_jLMUEy9Pu"
      }
    },
    {
      "cell_type": "code",
      "source": [
        "fuel_data = pd.read_csv(\"fuel.csv\", error_bad_lines=False)\n",
        "fuel_data.describe(include='all')"
      ],
      "metadata": {
        "colab": {
          "base_uri": "https://localhost:8080/",
          "height": 530
        },
        "id": "GqXvr1xExpqA",
        "outputId": "564280a3-2ef5-4c15-e49c-ddb5f5f71f3b"
      },
      "execution_count": null,
      "outputs": [
        {
          "output_type": "stream",
          "name": "stderr",
          "text": [
            "<ipython-input-36-4f581a70fadc>:1: FutureWarning: The error_bad_lines argument has been deprecated and will be removed in a future version. Use on_bad_lines in the future.\n",
            "\n",
            "\n",
            "  fuel_data = pd.read_csv(\"fuel.csv\", error_bad_lines=False)\n"
          ]
        },
        {
          "output_type": "execute_result",
          "data": {
            "text/plain": [
              "                    record_id  utility_id_ferc1   report_year  \\\n",
              "count                   29523      29523.000000  29523.000000   \n",
              "unique                  29523               NaN           NaN   \n",
              "top     f1_fuel_1994_12_1_0_7               NaN           NaN   \n",
              "freq                        1               NaN           NaN   \n",
              "mean                      NaN        118.601836   2005.806050   \n",
              "std                       NaN         74.178353      7.025483   \n",
              "min                       NaN          1.000000   1994.000000   \n",
              "25%                       NaN         55.000000   2000.000000   \n",
              "50%                       NaN        122.000000   2006.000000   \n",
              "75%                       NaN        176.000000   2012.000000   \n",
              "max                       NaN        514.000000   2018.000000   \n",
              "\n",
              "       plant_name_ferc1 fuel_type_code_pudl fuel_unit  fuel_qty_burned  \\\n",
              "count             29523               29523     29343     2.952300e+04   \n",
              "unique             2315                   6         9              NaN   \n",
              "top           big stone                 gas       mcf              NaN   \n",
              "freq                156               11486     11354              NaN   \n",
              "mean                NaN                 NaN       NaN     2.622119e+06   \n",
              "std                 NaN                 NaN       NaN     9.118004e+06   \n",
              "min                 NaN                 NaN       NaN     1.000000e+00   \n",
              "25%                 NaN                 NaN       NaN     1.381700e+04   \n",
              "50%                 NaN                 NaN       NaN     2.533220e+05   \n",
              "75%                 NaN                 NaN       NaN     1.424034e+06   \n",
              "max                 NaN                 NaN       NaN     5.558942e+08   \n",
              "\n",
              "        fuel_mmbtu_per_unit  fuel_cost_per_unit_burned  \\\n",
              "count          29523.000000               29523.000000   \n",
              "unique                  NaN                        NaN   \n",
              "top                     NaN                        NaN   \n",
              "freq                    NaN                        NaN   \n",
              "mean               8.492111                 208.649031   \n",
              "std               10.600220                2854.490090   \n",
              "min                0.000001                -276.080000   \n",
              "25%                1.024000                   5.207000   \n",
              "50%                5.762694                  26.000000   \n",
              "75%               17.006000                  47.113000   \n",
              "max              341.260000              139358.000000   \n",
              "\n",
              "        fuel_cost_per_unit_delivered  fuel_cost_per_mmbtu  \n",
              "count                   2.952300e+04         29523.000000  \n",
              "unique                           NaN                  NaN  \n",
              "top                              NaN                  NaN  \n",
              "freq                             NaN                  NaN  \n",
              "mean                    9.175704e+02            19.304354  \n",
              "std                     6.877593e+04          2091.540939  \n",
              "min                    -8.749370e+02           -41.501000  \n",
              "25%                     3.778500e+00             1.940000  \n",
              "50%                     1.737100e+01             4.127000  \n",
              "75%                     4.213700e+01             7.745000  \n",
              "max                     7.964521e+06        359278.000000  "
            ],
            "text/html": [
              "\n",
              "  <div id=\"df-6ffe8be7-f25a-4b30-84fb-433c240f80fb\">\n",
              "    <div class=\"colab-df-container\">\n",
              "      <div>\n",
              "<style scoped>\n",
              "    .dataframe tbody tr th:only-of-type {\n",
              "        vertical-align: middle;\n",
              "    }\n",
              "\n",
              "    .dataframe tbody tr th {\n",
              "        vertical-align: top;\n",
              "    }\n",
              "\n",
              "    .dataframe thead th {\n",
              "        text-align: right;\n",
              "    }\n",
              "</style>\n",
              "<table border=\"1\" class=\"dataframe\">\n",
              "  <thead>\n",
              "    <tr style=\"text-align: right;\">\n",
              "      <th></th>\n",
              "      <th>record_id</th>\n",
              "      <th>utility_id_ferc1</th>\n",
              "      <th>report_year</th>\n",
              "      <th>plant_name_ferc1</th>\n",
              "      <th>fuel_type_code_pudl</th>\n",
              "      <th>fuel_unit</th>\n",
              "      <th>fuel_qty_burned</th>\n",
              "      <th>fuel_mmbtu_per_unit</th>\n",
              "      <th>fuel_cost_per_unit_burned</th>\n",
              "      <th>fuel_cost_per_unit_delivered</th>\n",
              "      <th>fuel_cost_per_mmbtu</th>\n",
              "    </tr>\n",
              "  </thead>\n",
              "  <tbody>\n",
              "    <tr>\n",
              "      <th>count</th>\n",
              "      <td>29523</td>\n",
              "      <td>29523.000000</td>\n",
              "      <td>29523.000000</td>\n",
              "      <td>29523</td>\n",
              "      <td>29523</td>\n",
              "      <td>29343</td>\n",
              "      <td>2.952300e+04</td>\n",
              "      <td>29523.000000</td>\n",
              "      <td>29523.000000</td>\n",
              "      <td>2.952300e+04</td>\n",
              "      <td>29523.000000</td>\n",
              "    </tr>\n",
              "    <tr>\n",
              "      <th>unique</th>\n",
              "      <td>29523</td>\n",
              "      <td>NaN</td>\n",
              "      <td>NaN</td>\n",
              "      <td>2315</td>\n",
              "      <td>6</td>\n",
              "      <td>9</td>\n",
              "      <td>NaN</td>\n",
              "      <td>NaN</td>\n",
              "      <td>NaN</td>\n",
              "      <td>NaN</td>\n",
              "      <td>NaN</td>\n",
              "    </tr>\n",
              "    <tr>\n",
              "      <th>top</th>\n",
              "      <td>f1_fuel_1994_12_1_0_7</td>\n",
              "      <td>NaN</td>\n",
              "      <td>NaN</td>\n",
              "      <td>big stone</td>\n",
              "      <td>gas</td>\n",
              "      <td>mcf</td>\n",
              "      <td>NaN</td>\n",
              "      <td>NaN</td>\n",
              "      <td>NaN</td>\n",
              "      <td>NaN</td>\n",
              "      <td>NaN</td>\n",
              "    </tr>\n",
              "    <tr>\n",
              "      <th>freq</th>\n",
              "      <td>1</td>\n",
              "      <td>NaN</td>\n",
              "      <td>NaN</td>\n",
              "      <td>156</td>\n",
              "      <td>11486</td>\n",
              "      <td>11354</td>\n",
              "      <td>NaN</td>\n",
              "      <td>NaN</td>\n",
              "      <td>NaN</td>\n",
              "      <td>NaN</td>\n",
              "      <td>NaN</td>\n",
              "    </tr>\n",
              "    <tr>\n",
              "      <th>mean</th>\n",
              "      <td>NaN</td>\n",
              "      <td>118.601836</td>\n",
              "      <td>2005.806050</td>\n",
              "      <td>NaN</td>\n",
              "      <td>NaN</td>\n",
              "      <td>NaN</td>\n",
              "      <td>2.622119e+06</td>\n",
              "      <td>8.492111</td>\n",
              "      <td>208.649031</td>\n",
              "      <td>9.175704e+02</td>\n",
              "      <td>19.304354</td>\n",
              "    </tr>\n",
              "    <tr>\n",
              "      <th>std</th>\n",
              "      <td>NaN</td>\n",
              "      <td>74.178353</td>\n",
              "      <td>7.025483</td>\n",
              "      <td>NaN</td>\n",
              "      <td>NaN</td>\n",
              "      <td>NaN</td>\n",
              "      <td>9.118004e+06</td>\n",
              "      <td>10.600220</td>\n",
              "      <td>2854.490090</td>\n",
              "      <td>6.877593e+04</td>\n",
              "      <td>2091.540939</td>\n",
              "    </tr>\n",
              "    <tr>\n",
              "      <th>min</th>\n",
              "      <td>NaN</td>\n",
              "      <td>1.000000</td>\n",
              "      <td>1994.000000</td>\n",
              "      <td>NaN</td>\n",
              "      <td>NaN</td>\n",
              "      <td>NaN</td>\n",
              "      <td>1.000000e+00</td>\n",
              "      <td>0.000001</td>\n",
              "      <td>-276.080000</td>\n",
              "      <td>-8.749370e+02</td>\n",
              "      <td>-41.501000</td>\n",
              "    </tr>\n",
              "    <tr>\n",
              "      <th>25%</th>\n",
              "      <td>NaN</td>\n",
              "      <td>55.000000</td>\n",
              "      <td>2000.000000</td>\n",
              "      <td>NaN</td>\n",
              "      <td>NaN</td>\n",
              "      <td>NaN</td>\n",
              "      <td>1.381700e+04</td>\n",
              "      <td>1.024000</td>\n",
              "      <td>5.207000</td>\n",
              "      <td>3.778500e+00</td>\n",
              "      <td>1.940000</td>\n",
              "    </tr>\n",
              "    <tr>\n",
              "      <th>50%</th>\n",
              "      <td>NaN</td>\n",
              "      <td>122.000000</td>\n",
              "      <td>2006.000000</td>\n",
              "      <td>NaN</td>\n",
              "      <td>NaN</td>\n",
              "      <td>NaN</td>\n",
              "      <td>2.533220e+05</td>\n",
              "      <td>5.762694</td>\n",
              "      <td>26.000000</td>\n",
              "      <td>1.737100e+01</td>\n",
              "      <td>4.127000</td>\n",
              "    </tr>\n",
              "    <tr>\n",
              "      <th>75%</th>\n",
              "      <td>NaN</td>\n",
              "      <td>176.000000</td>\n",
              "      <td>2012.000000</td>\n",
              "      <td>NaN</td>\n",
              "      <td>NaN</td>\n",
              "      <td>NaN</td>\n",
              "      <td>1.424034e+06</td>\n",
              "      <td>17.006000</td>\n",
              "      <td>47.113000</td>\n",
              "      <td>4.213700e+01</td>\n",
              "      <td>7.745000</td>\n",
              "    </tr>\n",
              "    <tr>\n",
              "      <th>max</th>\n",
              "      <td>NaN</td>\n",
              "      <td>514.000000</td>\n",
              "      <td>2018.000000</td>\n",
              "      <td>NaN</td>\n",
              "      <td>NaN</td>\n",
              "      <td>NaN</td>\n",
              "      <td>5.558942e+08</td>\n",
              "      <td>341.260000</td>\n",
              "      <td>139358.000000</td>\n",
              "      <td>7.964521e+06</td>\n",
              "      <td>359278.000000</td>\n",
              "    </tr>\n",
              "  </tbody>\n",
              "</table>\n",
              "</div>\n",
              "      <button class=\"colab-df-convert\" onclick=\"convertToInteractive('df-6ffe8be7-f25a-4b30-84fb-433c240f80fb')\"\n",
              "              title=\"Convert this dataframe to an interactive table.\"\n",
              "              style=\"display:none;\">\n",
              "        \n",
              "  <svg xmlns=\"http://www.w3.org/2000/svg\" height=\"24px\"viewBox=\"0 0 24 24\"\n",
              "       width=\"24px\">\n",
              "    <path d=\"M0 0h24v24H0V0z\" fill=\"none\"/>\n",
              "    <path d=\"M18.56 5.44l.94 2.06.94-2.06 2.06-.94-2.06-.94-.94-2.06-.94 2.06-2.06.94zm-11 1L8.5 8.5l.94-2.06 2.06-.94-2.06-.94L8.5 2.5l-.94 2.06-2.06.94zm10 10l.94 2.06.94-2.06 2.06-.94-2.06-.94-.94-2.06-.94 2.06-2.06.94z\"/><path d=\"M17.41 7.96l-1.37-1.37c-.4-.4-.92-.59-1.43-.59-.52 0-1.04.2-1.43.59L10.3 9.45l-7.72 7.72c-.78.78-.78 2.05 0 2.83L4 21.41c.39.39.9.59 1.41.59.51 0 1.02-.2 1.41-.59l7.78-7.78 2.81-2.81c.8-.78.8-2.07 0-2.86zM5.41 20L4 18.59l7.72-7.72 1.47 1.35L5.41 20z\"/>\n",
              "  </svg>\n",
              "      </button>\n",
              "      \n",
              "  <style>\n",
              "    .colab-df-container {\n",
              "      display:flex;\n",
              "      flex-wrap:wrap;\n",
              "      gap: 12px;\n",
              "    }\n",
              "\n",
              "    .colab-df-convert {\n",
              "      background-color: #E8F0FE;\n",
              "      border: none;\n",
              "      border-radius: 50%;\n",
              "      cursor: pointer;\n",
              "      display: none;\n",
              "      fill: #1967D2;\n",
              "      height: 32px;\n",
              "      padding: 0 0 0 0;\n",
              "      width: 32px;\n",
              "    }\n",
              "\n",
              "    .colab-df-convert:hover {\n",
              "      background-color: #E2EBFA;\n",
              "      box-shadow: 0px 1px 2px rgba(60, 64, 67, 0.3), 0px 1px 3px 1px rgba(60, 64, 67, 0.15);\n",
              "      fill: #174EA6;\n",
              "    }\n",
              "\n",
              "    [theme=dark] .colab-df-convert {\n",
              "      background-color: #3B4455;\n",
              "      fill: #D2E3FC;\n",
              "    }\n",
              "\n",
              "    [theme=dark] .colab-df-convert:hover {\n",
              "      background-color: #434B5C;\n",
              "      box-shadow: 0px 1px 3px 1px rgba(0, 0, 0, 0.15);\n",
              "      filter: drop-shadow(0px 1px 2px rgba(0, 0, 0, 0.3));\n",
              "      fill: #FFFFFF;\n",
              "    }\n",
              "  </style>\n",
              "\n",
              "      <script>\n",
              "        const buttonEl =\n",
              "          document.querySelector('#df-6ffe8be7-f25a-4b30-84fb-433c240f80fb button.colab-df-convert');\n",
              "        buttonEl.style.display =\n",
              "          google.colab.kernel.accessAllowed ? 'block' : 'none';\n",
              "\n",
              "        async function convertToInteractive(key) {\n",
              "          const element = document.querySelector('#df-6ffe8be7-f25a-4b30-84fb-433c240f80fb');\n",
              "          const dataTable =\n",
              "            await google.colab.kernel.invokeFunction('convertToInteractive',\n",
              "                                                     [key], {});\n",
              "          if (!dataTable) return;\n",
              "\n",
              "          const docLinkHtml = 'Like what you see? Visit the ' +\n",
              "            '<a target=\"_blank\" href=https://colab.research.google.com/notebooks/data_table.ipynb>data table notebook</a>'\n",
              "            + ' to learn more about interactive tables.';\n",
              "          element.innerHTML = '';\n",
              "          dataTable['output_type'] = 'display_data';\n",
              "          await google.colab.output.renderOutput(dataTable, element);\n",
              "          const docLink = document.createElement('div');\n",
              "          docLink.innerHTML = docLinkHtml;\n",
              "          element.appendChild(docLink);\n",
              "        }\n",
              "      </script>\n",
              "    </div>\n",
              "  </div>\n",
              "  "
            ]
          },
          "metadata": {},
          "execution_count": 36
        }
      ]
    },
    {
      "cell_type": "markdown",
      "source": [
        "**Handling Missing data**"
      ],
      "metadata": {
        "id": "LqLeEkjK3iPQ"
      }
    },
    {
      "cell_type": "code",
      "source": [
        "print(fuel_data.isnull().sum())\n",
        "print('_________')\n",
        "\n",
        "\n",
        "#  filling with the most common value in the column - mcf. \n",
        "# count sum of each unique value in fuel_unit column\n",
        "\n",
        "fuel_data.groupby('fuel_unit')['fuel_unit'].count()\n",
        "fuel_data[['fuel_unit']] = fuel_data[['fuel_unit']].fillna(value='mcf')\n",
        "\n",
        "print(fuel_data.isnull().sum())\n",
        "print('_________')\n",
        "\n",
        "print(fuel_data.groupby('report_year')['report_year'].count())\n",
        "print('_________')\n",
        "\n",
        "fuel_data.groupby('fuel_type_code_pudl').first()"
      ],
      "metadata": {
        "colab": {
          "base_uri": "https://localhost:8080/",
          "height": 1000
        },
        "id": "C9RV04Dt2AEU",
        "outputId": "8dee8a6d-dbef-4e98-dbf1-a159c34a52e2"
      },
      "execution_count": null,
      "outputs": [
        {
          "output_type": "stream",
          "name": "stdout",
          "text": [
            "record_id                       0\n",
            "utility_id_ferc1                0\n",
            "report_year                     0\n",
            "plant_name_ferc1                0\n",
            "fuel_type_code_pudl             0\n",
            "fuel_unit                       0\n",
            "fuel_qty_burned                 0\n",
            "fuel_mmbtu_per_unit             0\n",
            "fuel_cost_per_unit_burned       0\n",
            "fuel_cost_per_unit_delivered    0\n",
            "fuel_cost_per_mmbtu             0\n",
            "dtype: int64\n",
            "_________\n",
            "record_id                       0\n",
            "utility_id_ferc1                0\n",
            "report_year                     0\n",
            "plant_name_ferc1                0\n",
            "fuel_type_code_pudl             0\n",
            "fuel_unit                       0\n",
            "fuel_qty_burned                 0\n",
            "fuel_mmbtu_per_unit             0\n",
            "fuel_cost_per_unit_burned       0\n",
            "fuel_cost_per_unit_delivered    0\n",
            "fuel_cost_per_mmbtu             0\n",
            "dtype: int64\n",
            "_________\n",
            "report_year\n",
            "1994    1235\n",
            "1995    1201\n",
            "1996    1088\n",
            "1997    1094\n",
            "1998    1107\n",
            "1999    1050\n",
            "2000    1373\n",
            "2001    1356\n",
            "2002    1205\n",
            "2003    1211\n",
            "2004    1192\n",
            "2005    1269\n",
            "2006    1243\n",
            "2007    1264\n",
            "2008    1228\n",
            "2009    1222\n",
            "2010    1261\n",
            "2011    1240\n",
            "2012    1243\n",
            "2013    1199\n",
            "2014    1171\n",
            "2015    1093\n",
            "2016    1034\n",
            "2017     993\n",
            "2018     951\n",
            "Name: report_year, dtype: int64\n",
            "_________\n"
          ]
        },
        {
          "output_type": "execute_result",
          "data": {
            "text/plain": [
              "                                  record_id  utility_id_ferc1  report_year  \\\n",
              "fuel_type_code_pudl                                                          \n",
              "coal                  f1_fuel_1994_12_1_0_7                 1         1994   \n",
              "gas                  f1_fuel_1994_12_2_0_10                 2         1994   \n",
              "nuclear               f1_fuel_1994_12_2_1_1                 2         1994   \n",
              "oil                   f1_fuel_1994_12_6_0_2                 6         1994   \n",
              "other                f1_fuel_1994_12_11_0_6                11         1994   \n",
              "waste                 f1_fuel_1994_12_9_0_3                 9         1994   \n",
              "\n",
              "                     plant_name_ferc1 fuel_unit  fuel_qty_burned  \\\n",
              "fuel_type_code_pudl                                                \n",
              "coal                         rockport       ton        5377489.0   \n",
              "gas                         chickasaw       mcf          40533.0   \n",
              "nuclear              joseph m. farley       kgU           2260.0   \n",
              "oil                      clinch river       bbl           6510.0   \n",
              "other                      w.f. wyman       bbl          55652.0   \n",
              "waste                    b.l. england       ton           2438.0   \n",
              "\n",
              "                     fuel_mmbtu_per_unit  fuel_cost_per_unit_burned  \\\n",
              "fuel_type_code_pudl                                                   \n",
              "coal                           16.590000                     18.590   \n",
              "gas                             1.000000                      2.770   \n",
              "nuclear                         0.064094                     28.770   \n",
              "oil                             5.875338                     32.130   \n",
              "other                           0.149719                     14.685   \n",
              "waste                           0.015939                     34.180   \n",
              "\n",
              "                     fuel_cost_per_unit_delivered  fuel_cost_per_mmbtu  \n",
              "fuel_type_code_pudl                                                     \n",
              "coal                                       18.530                1.121  \n",
              "gas                                         2.770                2.570  \n",
              "nuclear                                     0.000                0.450  \n",
              "oil                                        23.444                5.469  \n",
              "other                                      15.090                2.335  \n",
              "waste                                      34.180                1.072  "
            ],
            "text/html": [
              "\n",
              "  <div id=\"df-da4bad60-202e-40fd-aa4b-6d684a308e53\">\n",
              "    <div class=\"colab-df-container\">\n",
              "      <div>\n",
              "<style scoped>\n",
              "    .dataframe tbody tr th:only-of-type {\n",
              "        vertical-align: middle;\n",
              "    }\n",
              "\n",
              "    .dataframe tbody tr th {\n",
              "        vertical-align: top;\n",
              "    }\n",
              "\n",
              "    .dataframe thead th {\n",
              "        text-align: right;\n",
              "    }\n",
              "</style>\n",
              "<table border=\"1\" class=\"dataframe\">\n",
              "  <thead>\n",
              "    <tr style=\"text-align: right;\">\n",
              "      <th></th>\n",
              "      <th>record_id</th>\n",
              "      <th>utility_id_ferc1</th>\n",
              "      <th>report_year</th>\n",
              "      <th>plant_name_ferc1</th>\n",
              "      <th>fuel_unit</th>\n",
              "      <th>fuel_qty_burned</th>\n",
              "      <th>fuel_mmbtu_per_unit</th>\n",
              "      <th>fuel_cost_per_unit_burned</th>\n",
              "      <th>fuel_cost_per_unit_delivered</th>\n",
              "      <th>fuel_cost_per_mmbtu</th>\n",
              "    </tr>\n",
              "    <tr>\n",
              "      <th>fuel_type_code_pudl</th>\n",
              "      <th></th>\n",
              "      <th></th>\n",
              "      <th></th>\n",
              "      <th></th>\n",
              "      <th></th>\n",
              "      <th></th>\n",
              "      <th></th>\n",
              "      <th></th>\n",
              "      <th></th>\n",
              "      <th></th>\n",
              "    </tr>\n",
              "  </thead>\n",
              "  <tbody>\n",
              "    <tr>\n",
              "      <th>coal</th>\n",
              "      <td>f1_fuel_1994_12_1_0_7</td>\n",
              "      <td>1</td>\n",
              "      <td>1994</td>\n",
              "      <td>rockport</td>\n",
              "      <td>ton</td>\n",
              "      <td>5377489.0</td>\n",
              "      <td>16.590000</td>\n",
              "      <td>18.590</td>\n",
              "      <td>18.530</td>\n",
              "      <td>1.121</td>\n",
              "    </tr>\n",
              "    <tr>\n",
              "      <th>gas</th>\n",
              "      <td>f1_fuel_1994_12_2_0_10</td>\n",
              "      <td>2</td>\n",
              "      <td>1994</td>\n",
              "      <td>chickasaw</td>\n",
              "      <td>mcf</td>\n",
              "      <td>40533.0</td>\n",
              "      <td>1.000000</td>\n",
              "      <td>2.770</td>\n",
              "      <td>2.770</td>\n",
              "      <td>2.570</td>\n",
              "    </tr>\n",
              "    <tr>\n",
              "      <th>nuclear</th>\n",
              "      <td>f1_fuel_1994_12_2_1_1</td>\n",
              "      <td>2</td>\n",
              "      <td>1994</td>\n",
              "      <td>joseph m. farley</td>\n",
              "      <td>kgU</td>\n",
              "      <td>2260.0</td>\n",
              "      <td>0.064094</td>\n",
              "      <td>28.770</td>\n",
              "      <td>0.000</td>\n",
              "      <td>0.450</td>\n",
              "    </tr>\n",
              "    <tr>\n",
              "      <th>oil</th>\n",
              "      <td>f1_fuel_1994_12_6_0_2</td>\n",
              "      <td>6</td>\n",
              "      <td>1994</td>\n",
              "      <td>clinch river</td>\n",
              "      <td>bbl</td>\n",
              "      <td>6510.0</td>\n",
              "      <td>5.875338</td>\n",
              "      <td>32.130</td>\n",
              "      <td>23.444</td>\n",
              "      <td>5.469</td>\n",
              "    </tr>\n",
              "    <tr>\n",
              "      <th>other</th>\n",
              "      <td>f1_fuel_1994_12_11_0_6</td>\n",
              "      <td>11</td>\n",
              "      <td>1994</td>\n",
              "      <td>w.f. wyman</td>\n",
              "      <td>bbl</td>\n",
              "      <td>55652.0</td>\n",
              "      <td>0.149719</td>\n",
              "      <td>14.685</td>\n",
              "      <td>15.090</td>\n",
              "      <td>2.335</td>\n",
              "    </tr>\n",
              "    <tr>\n",
              "      <th>waste</th>\n",
              "      <td>f1_fuel_1994_12_9_0_3</td>\n",
              "      <td>9</td>\n",
              "      <td>1994</td>\n",
              "      <td>b.l. england</td>\n",
              "      <td>ton</td>\n",
              "      <td>2438.0</td>\n",
              "      <td>0.015939</td>\n",
              "      <td>34.180</td>\n",
              "      <td>34.180</td>\n",
              "      <td>1.072</td>\n",
              "    </tr>\n",
              "  </tbody>\n",
              "</table>\n",
              "</div>\n",
              "      <button class=\"colab-df-convert\" onclick=\"convertToInteractive('df-da4bad60-202e-40fd-aa4b-6d684a308e53')\"\n",
              "              title=\"Convert this dataframe to an interactive table.\"\n",
              "              style=\"display:none;\">\n",
              "        \n",
              "  <svg xmlns=\"http://www.w3.org/2000/svg\" height=\"24px\"viewBox=\"0 0 24 24\"\n",
              "       width=\"24px\">\n",
              "    <path d=\"M0 0h24v24H0V0z\" fill=\"none\"/>\n",
              "    <path d=\"M18.56 5.44l.94 2.06.94-2.06 2.06-.94-2.06-.94-.94-2.06-.94 2.06-2.06.94zm-11 1L8.5 8.5l.94-2.06 2.06-.94-2.06-.94L8.5 2.5l-.94 2.06-2.06.94zm10 10l.94 2.06.94-2.06 2.06-.94-2.06-.94-.94-2.06-.94 2.06-2.06.94z\"/><path d=\"M17.41 7.96l-1.37-1.37c-.4-.4-.92-.59-1.43-.59-.52 0-1.04.2-1.43.59L10.3 9.45l-7.72 7.72c-.78.78-.78 2.05 0 2.83L4 21.41c.39.39.9.59 1.41.59.51 0 1.02-.2 1.41-.59l7.78-7.78 2.81-2.81c.8-.78.8-2.07 0-2.86zM5.41 20L4 18.59l7.72-7.72 1.47 1.35L5.41 20z\"/>\n",
              "  </svg>\n",
              "      </button>\n",
              "      \n",
              "  <style>\n",
              "    .colab-df-container {\n",
              "      display:flex;\n",
              "      flex-wrap:wrap;\n",
              "      gap: 12px;\n",
              "    }\n",
              "\n",
              "    .colab-df-convert {\n",
              "      background-color: #E8F0FE;\n",
              "      border: none;\n",
              "      border-radius: 50%;\n",
              "      cursor: pointer;\n",
              "      display: none;\n",
              "      fill: #1967D2;\n",
              "      height: 32px;\n",
              "      padding: 0 0 0 0;\n",
              "      width: 32px;\n",
              "    }\n",
              "\n",
              "    .colab-df-convert:hover {\n",
              "      background-color: #E2EBFA;\n",
              "      box-shadow: 0px 1px 2px rgba(60, 64, 67, 0.3), 0px 1px 3px 1px rgba(60, 64, 67, 0.15);\n",
              "      fill: #174EA6;\n",
              "    }\n",
              "\n",
              "    [theme=dark] .colab-df-convert {\n",
              "      background-color: #3B4455;\n",
              "      fill: #D2E3FC;\n",
              "    }\n",
              "\n",
              "    [theme=dark] .colab-df-convert:hover {\n",
              "      background-color: #434B5C;\n",
              "      box-shadow: 0px 1px 3px 1px rgba(0, 0, 0, 0.15);\n",
              "      filter: drop-shadow(0px 1px 2px rgba(0, 0, 0, 0.3));\n",
              "      fill: #FFFFFF;\n",
              "    }\n",
              "  </style>\n",
              "\n",
              "      <script>\n",
              "        const buttonEl =\n",
              "          document.querySelector('#df-da4bad60-202e-40fd-aa4b-6d684a308e53 button.colab-df-convert');\n",
              "        buttonEl.style.display =\n",
              "          google.colab.kernel.accessAllowed ? 'block' : 'none';\n",
              "\n",
              "        async function convertToInteractive(key) {\n",
              "          const element = document.querySelector('#df-da4bad60-202e-40fd-aa4b-6d684a308e53');\n",
              "          const dataTable =\n",
              "            await google.colab.kernel.invokeFunction('convertToInteractive',\n",
              "                                                     [key], {});\n",
              "          if (!dataTable) return;\n",
              "\n",
              "          const docLinkHtml = 'Like what you see? Visit the ' +\n",
              "            '<a target=\"_blank\" href=https://colab.research.google.com/notebooks/data_table.ipynb>data table notebook</a>'\n",
              "            + ' to learn more about interactive tables.';\n",
              "          element.innerHTML = '';\n",
              "          dataTable['output_type'] = 'display_data';\n",
              "          await google.colab.output.renderOutput(dataTable, element);\n",
              "          const docLink = document.createElement('div');\n",
              "          docLink.innerHTML = docLinkHtml;\n",
              "          element.appendChild(docLink);\n",
              "        }\n",
              "      </script>\n",
              "    </div>\n",
              "  </div>\n",
              "  "
            ]
          },
          "metadata": {},
          "execution_count": 41
        }
      ]
    },
    {
      "cell_type": "markdown",
      "source": [
        "**Merging Dataframes**"
      ],
      "metadata": {
        "id": "DngGMMhO3tKt"
      }
    },
    {
      "cell_type": "code",
      "source": [
        "# split the fuel data into two groups and merge using different methods.\n",
        "fuel_df1 = fuel_data.iloc[0:19000].reset_index(drop=True)\n",
        "fuel_df2 = fuel_data.iloc[19000:].reset_index(drop=True)\n",
        "\n",
        "# check length of both dfs sum to expected length\n",
        "assert len(fuel_data) == (len(fuel_df1)+ len(fuel_df2))\n",
        "\n",
        "# inner merge - loose rows that do not match both dfs\n",
        "df_inner = pd.merge(fuel_df1, fuel_df2, how='inner') #no output\n",
        "print(df_inner)\n",
        "# outer merge - returns all rows in both dfs\n",
        "df_outer = pd.merge(fuel_df1, fuel_df2, how='outer')\n",
        "print(df_outer)\n",
        "\n",
        "# left merge - removes rows from right df that do not have a match with the left\n",
        "# keeps all rows from the left\n",
        "df_left = pd.merge(fuel_df1, fuel_df2, how='left') \n",
        "print(df_left)"
      ],
      "metadata": {
        "colab": {
          "base_uri": "https://localhost:8080/"
        },
        "id": "hVLtfRdu2GoB",
        "outputId": "0efd490b-2389-4f8e-bf34-dd6c08098f4b"
      },
      "execution_count": null,
      "outputs": [
        {
          "output_type": "stream",
          "name": "stdout",
          "text": [
            "Empty DataFrame\n",
            "Columns: [record_id, utility_id_ferc1, report_year, plant_name_ferc1, fuel_type_code_pudl, fuel_unit, fuel_qty_burned, fuel_mmbtu_per_unit, fuel_cost_per_unit_burned, fuel_cost_per_unit_delivered, fuel_cost_per_mmbtu]\n",
            "Index: []\n",
            "                     record_id  utility_id_ferc1  report_year  \\\n",
            "0        f1_fuel_1994_12_1_0_7                 1         1994   \n",
            "1       f1_fuel_1994_12_1_0_10                 1         1994   \n",
            "2        f1_fuel_1994_12_2_0_1                 2         1994   \n",
            "3        f1_fuel_1994_12_2_0_7                 2         1994   \n",
            "4       f1_fuel_1994_12_2_0_10                 2         1994   \n",
            "...                        ...               ...          ...   \n",
            "29518  f1_fuel_2018_12_12_0_13                12         2018   \n",
            "29519   f1_fuel_2018_12_12_1_1                12         2018   \n",
            "29520  f1_fuel_2018_12_12_1_10                12         2018   \n",
            "29521  f1_fuel_2018_12_12_1_13                12         2018   \n",
            "29522  f1_fuel_2018_12_12_1_14                12         2018   \n",
            "\n",
            "           plant_name_ferc1 fuel_type_code_pudl fuel_unit  fuel_qty_burned  \\\n",
            "0                  rockport                coal       ton        5377489.0   \n",
            "1      rockport total plant                coal       ton       10486945.0   \n",
            "2                    gorgas                coal       ton        2978683.0   \n",
            "3                     barry                coal       ton        3739484.0   \n",
            "4                 chickasaw                 gas       mcf          40533.0   \n",
            "...                     ...                 ...       ...              ...   \n",
            "29518    neil simpson ct #1                 gas       mcf          18799.0   \n",
            "29519  cheyenne prairie 58%                 gas       mcf         806730.0   \n",
            "29520     lange ct facility                 gas       mcf         104554.0   \n",
            "29521       wygen 3 bhp 52%                coal       ton         315945.0   \n",
            "29522       wygen 3 bhp 52%                 gas       mcf          17853.0   \n",
            "\n",
            "       fuel_mmbtu_per_unit  fuel_cost_per_unit_burned  \\\n",
            "0                   16.590                      18.59   \n",
            "1                   16.592                      18.58   \n",
            "2                   24.130                      39.72   \n",
            "3                   23.950                      47.21   \n",
            "4                    1.000                       2.77   \n",
            "...                    ...                        ...   \n",
            "29518                1.059                       4.78   \n",
            "29519                1.050                       3.65   \n",
            "29520                1.060                       4.77   \n",
            "29521               16.108                       3.06   \n",
            "29522                1.059                       0.00   \n",
            "\n",
            "       fuel_cost_per_unit_delivered  fuel_cost_per_mmbtu  \n",
            "0                             18.53                1.121  \n",
            "1                             18.53                1.120  \n",
            "2                             38.12                1.650  \n",
            "3                             45.99                1.970  \n",
            "4                              2.77                2.570  \n",
            "...                             ...                  ...  \n",
            "29518                          4.78                9.030  \n",
            "29519                          3.65                6.950  \n",
            "29520                          4.77                8.990  \n",
            "29521                         14.76                1.110  \n",
            "29522                          0.00               11.680  \n",
            "\n",
            "[29523 rows x 11 columns]\n",
            "                      record_id  utility_id_ferc1  report_year  \\\n",
            "0         f1_fuel_1994_12_1_0_7                 1         1994   \n",
            "1        f1_fuel_1994_12_1_0_10                 1         1994   \n",
            "2         f1_fuel_1994_12_2_0_1                 2         1994   \n",
            "3         f1_fuel_1994_12_2_0_7                 2         1994   \n",
            "4        f1_fuel_1994_12_2_0_10                 2         1994   \n",
            "...                         ...               ...          ...   \n",
            "18995   f1_fuel_2009_12_182_1_9               182         2009   \n",
            "18996  f1_fuel_2009_12_182_1_10               182         2009   \n",
            "18997  f1_fuel_2009_12_182_1_13               182         2009   \n",
            "18998  f1_fuel_2009_12_182_1_14               182         2009   \n",
            "18999    f1_fuel_2009_12_79_0_1                79         2009   \n",
            "\n",
            "           plant_name_ferc1 fuel_type_code_pudl fuel_unit  fuel_qty_burned  \\\n",
            "0                  rockport                coal       ton        5377489.0   \n",
            "1      rockport total plant                coal       ton       10486945.0   \n",
            "2                    gorgas                coal       ton        2978683.0   \n",
            "3                     barry                coal       ton        3739484.0   \n",
            "4                 chickasaw                 gas       mcf          40533.0   \n",
            "...                     ...                 ...       ...              ...   \n",
            "18995             lake road                 gas       mcf         340857.0   \n",
            "18996             lake road                 oil       mcf            771.0   \n",
            "18997           iatan (18%)                coal       ton         414142.0   \n",
            "18998           iatan (18%)                 oil       bbl           5761.0   \n",
            "18999              montrose                coal       ton        2050919.0   \n",
            "\n",
            "       fuel_mmbtu_per_unit  fuel_cost_per_unit_burned  \\\n",
            "0                16.590000                     18.590   \n",
            "1                16.592000                     18.580   \n",
            "2                24.130000                     39.720   \n",
            "3                23.950000                     47.210   \n",
            "4                 1.000000                      2.770   \n",
            "...                    ...                        ...   \n",
            "18995             1.000000                      4.711   \n",
            "18996             5.801544                     84.899   \n",
            "18997            16.718000                     18.509   \n",
            "18998             5.537910                     83.636   \n",
            "18999            17.160000                     29.629   \n",
            "\n",
            "       fuel_cost_per_unit_delivered  fuel_cost_per_mmbtu  \n",
            "0                            18.530                1.121  \n",
            "1                            18.530                1.120  \n",
            "2                            38.120                1.650  \n",
            "3                            45.990                1.970  \n",
            "4                             2.770                2.570  \n",
            "...                             ...                  ...  \n",
            "18995                         4.711                4.711  \n",
            "18996                        84.899               14.634  \n",
            "18997                        17.570                1.107  \n",
            "18998                        72.280               15.102  \n",
            "18999                        28.330                1.727  \n",
            "\n",
            "[19000 rows x 11 columns]\n"
          ]
        }
      ]
    },
    {
      "cell_type": "markdown",
      "source": [
        "Concatenation is performed with the concat() function by combining series or dataframes while keeping the indices of the individual unit irrespective of duplicate indices."
      ],
      "metadata": {
        "id": "lyP1STC25j3M"
      }
    },
    {
      "cell_type": "code",
      "source": [
        "pd.concat([fuel_data, data_to_concat]).reset_index(drop=True)\n"
      ],
      "metadata": {
        "id": "mjO22ooA4mIn"
      },
      "execution_count": null,
      "outputs": []
    },
    {
      "cell_type": "code",
      "source": [
        "# checking for duplicates\n",
        "fuel_data.duplicated().any().sum()"
      ],
      "metadata": {
        "colab": {
          "base_uri": "https://localhost:8080/"
        },
        "id": "qgUOSVQp5k47",
        "outputId": "23cb3215-d76c-41bd-d625-397a285d97e1"
      },
      "execution_count": null,
      "outputs": [
        {
          "output_type": "execute_result",
          "data": {
            "text/plain": [
              "0"
            ]
          },
          "metadata": {},
          "execution_count": 49
        }
      ]
    },
    {
      "cell_type": "markdown",
      "source": [
        "### **Data Visualization and Representation in Python**"
      ],
      "metadata": {
        "id": "qmlkXfuo58MB"
      }
    },
    {
      "cell_type": "code",
      "source": [
        "import matplotlib.pyplot as plt\n",
        "import seaborn as sns\n",
        "\n",
        "plt.figure(figsize=(7,4))\n",
        "plt.xticks(rotation=90)\n",
        "fuel_unit = pd.DataFrame({'unit': ['BBL', 'GAL','GRAMSU','KGU','MCF', 'MMBTU',\n",
        "                                  'MWDTH', 'MWHTH', 'TON'], \n",
        "                         'count': [7998, 84, 464, 110, 11354, 180, 95, 100, 8958]})\n",
        "\n",
        "sns.barplot(data=fuel_unit, x='unit', y='count')\n",
        "plt.xlabel('Fuel Unit')\n",
        "\n"
      ],
      "metadata": {
        "colab": {
          "base_uri": "https://localhost:8080/",
          "height": 448
        },
        "id": "icBqTHaU5qcz",
        "outputId": "be5c9ff6-19af-421b-e526-1188dfbf173e"
      },
      "execution_count": null,
      "outputs": [
        {
          "output_type": "execute_result",
          "data": {
            "text/plain": [
              "Text(0.5, 0, 'Fuel Unit')"
            ]
          },
          "metadata": {},
          "execution_count": 54
        },
        {
          "output_type": "display_data",
          "data": {
            "text/plain": [
              "<Figure size 700x400 with 1 Axes>"
            ],
            "image/png": "[encoded data removed]"
          },
          "metadata": {}
        }
      ]
    },
    {
      "cell_type": "code",
      "source": [
        "'''\n",
        "Because of the extreme range of the values for the fuel unit, we can plot the barchart\n",
        "by taking the logarithm of the y-axis:\n",
        "'''\n",
        "g = sns.barplot(data=fuel_unit, x='unit', y='count')\n",
        "g.set_yscale('log')\n",
        "g.set_ylim(1, 12000)\n",
        "plt.xlabel('Fuel Unit')"
      ],
      "metadata": {
        "colab": {
          "base_uri": "https://localhost:8080/",
          "height": 468
        },
        "id": "EGr-1T9P7bmx",
        "outputId": "1675ee27-31b5-427c-f50e-2e987a47efb2"
      },
      "execution_count": null,
      "outputs": [
        {
          "output_type": "execute_result",
          "data": {
            "text/plain": [
              "Text(0.5, 0, 'Fuel Unit')"
            ]
          },
          "metadata": {},
          "execution_count": 55
        },
        {
          "output_type": "display_data",
          "data": {
            "text/plain": [
              "<Figure size 640x480 with 1 Axes>"
            ],
            "image/png": "[encoded data removed]"
          },
          "metadata": {}
        }
      ]
    },
    {
      "cell_type": "code",
      "source": [
        "# Select a sample of the dataset \n",
        "sample_df = fuel_data.sample(n=50, random_state=4) \n",
        "sns.regplot(x=sample_df[\"utility_id_ferc1\"], y=sample_df[\"fuel_cost_per_mmbtu\"], fit_reg=False)"
      ],
      "metadata": {
        "colab": {
          "base_uri": "https://localhost:8080/",
          "height": 468
        },
        "id": "ugYH2ZFp8Ddi",
        "outputId": "71d362a1-b5a5-4711-b6e0-4f0569a0bb7e"
      },
      "execution_count": null,
      "outputs": [
        {
          "output_type": "execute_result",
          "data": {
            "text/plain": [
              "<Axes: xlabel='utility_id_ferc1', ylabel='fuel_cost_per_mmbtu'>"
            ]
          },
          "metadata": {},
          "execution_count": 56
        },
        {
          "output_type": "display_data",
          "data": {
            "text/plain": [
              "<Figure size 640x480 with 1 Axes>"
            ],
            "image/png": "[encoded data removed]"
          },
          "metadata": {}
        }
      ]
    },
    {
      "cell_type": "code",
      "source": [
        "# Boxplot\n",
        "sns.boxplot(x=\"fuel_type_code_pudl\", y=\"utility_id_ferc1\", palette=[\"m\", \"g\"], data=fuel_data) "
      ],
      "metadata": {
        "colab": {
          "base_uri": "https://localhost:8080/",
          "height": 468
        },
        "id": "EB1-kkcc8S39",
        "outputId": "1da508a5-0c0a-452b-fa94-42e20d8a38eb"
      },
      "execution_count": null,
      "outputs": [
        {
          "output_type": "execute_result",
          "data": {
            "text/plain": [
              "<Axes: xlabel='fuel_type_code_pudl', ylabel='utility_id_ferc1'>"
            ]
          },
          "metadata": {},
          "execution_count": 57
        },
        {
          "output_type": "display_data",
          "data": {
            "text/plain": [
              "<Figure size 640x480 with 1 Axes>"
            ],
            "image/png": "[encoded data removed]"
          },
          "metadata": {}
        }
      ]
    },
    {
      "cell_type": "code",
      "source": [
        "# KDE plot\n",
        "sns.kdeplot(sample_df['fuel_cost_per_unit_burned'], fill=True, color=\"b\")"
      ],
      "metadata": {
        "colab": {
          "base_uri": "https://localhost:8080/",
          "height": 468
        },
        "id": "NwbiU-dR8d1V",
        "outputId": "8074864d-a9e8-4343-876e-63c451ac9b0c"
      },
      "execution_count": null,
      "outputs": [
        {
          "output_type": "execute_result",
          "data": {
            "text/plain": [
              "<Axes: xlabel='fuel_cost_per_unit_burned', ylabel='Density'>"
            ]
          },
          "metadata": {},
          "execution_count": 59
        },
        {
          "output_type": "display_data",
          "data": {
            "text/plain": [
              "<Figure size 640x480 with 1 Axes>"
            ],
            "image/png": "[encoded data removed]"
          },
          "metadata": {}
        }
      ]
    },
    {
      "cell_type": "code",
      "source": [],
      "metadata": {
        "id": "NJ-rv4A48pHK"
      },
      "execution_count": null,
      "outputs": []
    }
  ]
}